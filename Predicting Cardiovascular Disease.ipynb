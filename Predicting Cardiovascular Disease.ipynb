{
 "cells": [
  {
   "cell_type": "markdown",
   "metadata": {},
   "source": [
    "<h1>Predicting Cardiovascular Disease</h1>\n",
    "\n",
    "<h3>01. Intro</h3>\n",
    "\n",
    "I've always been interested in the use of machine learning to predict diseases. I found this cardiovascular disease dataset on Kaggle, which contains 70 000 records of patient data collected at the time of medical examination, consisting of 12 features. The target class \"cardio\" is 1 when cardiovascular disease is present and 0 when absent. The objective of this exercise is to predict the presence of cardivascular disease on new data. \n",
    "\n",
    "It's a clean dataset with clearly defined features, making it a great place to start an independent project in the life sciences domain and get my hands dirty in implementing some techniques I've been learning."
   ]
  },
  {
   "cell_type": "code",
   "execution_count": 389,
   "metadata": {},
   "outputs": [],
   "source": [
    "import numpy as np \n",
    "import pandas as pd\n",
    "import matplotlib.pyplot as plt\n",
    "import seaborn as sns\n",
    "\n",
    "random_state = 63"
   ]
  },
  {
   "cell_type": "code",
   "execution_count": 328,
   "metadata": {},
   "outputs": [],
   "source": [
    "dataset = pd.read_csv(\"cardio_train.csv\", sep=\";\")\n",
    "\n",
    "df = dataset"
   ]
  },
  {
   "cell_type": "code",
   "execution_count": 329,
   "metadata": {},
   "outputs": [
    {
     "data": {
      "text/html": [
       "<div>\n",
       "<style scoped>\n",
       "    .dataframe tbody tr th:only-of-type {\n",
       "        vertical-align: middle;\n",
       "    }\n",
       "\n",
       "    .dataframe tbody tr th {\n",
       "        vertical-align: top;\n",
       "    }\n",
       "\n",
       "    .dataframe thead th {\n",
       "        text-align: right;\n",
       "    }\n",
       "</style>\n",
       "<table border=\"1\" class=\"dataframe\">\n",
       "  <thead>\n",
       "    <tr style=\"text-align: right;\">\n",
       "      <th></th>\n",
       "      <th>id</th>\n",
       "      <th>age</th>\n",
       "      <th>gender</th>\n",
       "      <th>height</th>\n",
       "      <th>weight</th>\n",
       "      <th>ap_hi</th>\n",
       "      <th>ap_lo</th>\n",
       "      <th>cholesterol</th>\n",
       "      <th>gluc</th>\n",
       "      <th>smoke</th>\n",
       "      <th>alco</th>\n",
       "      <th>active</th>\n",
       "      <th>cardio</th>\n",
       "    </tr>\n",
       "  </thead>\n",
       "  <tbody>\n",
       "    <tr>\n",
       "      <th>0</th>\n",
       "      <td>0</td>\n",
       "      <td>18393</td>\n",
       "      <td>2</td>\n",
       "      <td>168</td>\n",
       "      <td>62.0</td>\n",
       "      <td>110</td>\n",
       "      <td>80</td>\n",
       "      <td>1</td>\n",
       "      <td>1</td>\n",
       "      <td>0</td>\n",
       "      <td>0</td>\n",
       "      <td>1</td>\n",
       "      <td>0</td>\n",
       "    </tr>\n",
       "    <tr>\n",
       "      <th>1</th>\n",
       "      <td>1</td>\n",
       "      <td>20228</td>\n",
       "      <td>1</td>\n",
       "      <td>156</td>\n",
       "      <td>85.0</td>\n",
       "      <td>140</td>\n",
       "      <td>90</td>\n",
       "      <td>3</td>\n",
       "      <td>1</td>\n",
       "      <td>0</td>\n",
       "      <td>0</td>\n",
       "      <td>1</td>\n",
       "      <td>1</td>\n",
       "    </tr>\n",
       "    <tr>\n",
       "      <th>2</th>\n",
       "      <td>2</td>\n",
       "      <td>18857</td>\n",
       "      <td>1</td>\n",
       "      <td>165</td>\n",
       "      <td>64.0</td>\n",
       "      <td>130</td>\n",
       "      <td>70</td>\n",
       "      <td>3</td>\n",
       "      <td>1</td>\n",
       "      <td>0</td>\n",
       "      <td>0</td>\n",
       "      <td>0</td>\n",
       "      <td>1</td>\n",
       "    </tr>\n",
       "    <tr>\n",
       "      <th>3</th>\n",
       "      <td>3</td>\n",
       "      <td>17623</td>\n",
       "      <td>2</td>\n",
       "      <td>169</td>\n",
       "      <td>82.0</td>\n",
       "      <td>150</td>\n",
       "      <td>100</td>\n",
       "      <td>1</td>\n",
       "      <td>1</td>\n",
       "      <td>0</td>\n",
       "      <td>0</td>\n",
       "      <td>1</td>\n",
       "      <td>1</td>\n",
       "    </tr>\n",
       "    <tr>\n",
       "      <th>4</th>\n",
       "      <td>4</td>\n",
       "      <td>17474</td>\n",
       "      <td>1</td>\n",
       "      <td>156</td>\n",
       "      <td>56.0</td>\n",
       "      <td>100</td>\n",
       "      <td>60</td>\n",
       "      <td>1</td>\n",
       "      <td>1</td>\n",
       "      <td>0</td>\n",
       "      <td>0</td>\n",
       "      <td>0</td>\n",
       "      <td>0</td>\n",
       "    </tr>\n",
       "    <tr>\n",
       "      <th>5</th>\n",
       "      <td>8</td>\n",
       "      <td>21914</td>\n",
       "      <td>1</td>\n",
       "      <td>151</td>\n",
       "      <td>67.0</td>\n",
       "      <td>120</td>\n",
       "      <td>80</td>\n",
       "      <td>2</td>\n",
       "      <td>2</td>\n",
       "      <td>0</td>\n",
       "      <td>0</td>\n",
       "      <td>0</td>\n",
       "      <td>0</td>\n",
       "    </tr>\n",
       "    <tr>\n",
       "      <th>6</th>\n",
       "      <td>9</td>\n",
       "      <td>22113</td>\n",
       "      <td>1</td>\n",
       "      <td>157</td>\n",
       "      <td>93.0</td>\n",
       "      <td>130</td>\n",
       "      <td>80</td>\n",
       "      <td>3</td>\n",
       "      <td>1</td>\n",
       "      <td>0</td>\n",
       "      <td>0</td>\n",
       "      <td>1</td>\n",
       "      <td>0</td>\n",
       "    </tr>\n",
       "    <tr>\n",
       "      <th>7</th>\n",
       "      <td>12</td>\n",
       "      <td>22584</td>\n",
       "      <td>2</td>\n",
       "      <td>178</td>\n",
       "      <td>95.0</td>\n",
       "      <td>130</td>\n",
       "      <td>90</td>\n",
       "      <td>3</td>\n",
       "      <td>3</td>\n",
       "      <td>0</td>\n",
       "      <td>0</td>\n",
       "      <td>1</td>\n",
       "      <td>1</td>\n",
       "    </tr>\n",
       "    <tr>\n",
       "      <th>8</th>\n",
       "      <td>13</td>\n",
       "      <td>17668</td>\n",
       "      <td>1</td>\n",
       "      <td>158</td>\n",
       "      <td>71.0</td>\n",
       "      <td>110</td>\n",
       "      <td>70</td>\n",
       "      <td>1</td>\n",
       "      <td>1</td>\n",
       "      <td>0</td>\n",
       "      <td>0</td>\n",
       "      <td>1</td>\n",
       "      <td>0</td>\n",
       "    </tr>\n",
       "    <tr>\n",
       "      <th>9</th>\n",
       "      <td>14</td>\n",
       "      <td>19834</td>\n",
       "      <td>1</td>\n",
       "      <td>164</td>\n",
       "      <td>68.0</td>\n",
       "      <td>110</td>\n",
       "      <td>60</td>\n",
       "      <td>1</td>\n",
       "      <td>1</td>\n",
       "      <td>0</td>\n",
       "      <td>0</td>\n",
       "      <td>0</td>\n",
       "      <td>0</td>\n",
       "    </tr>\n",
       "  </tbody>\n",
       "</table>\n",
       "</div>"
      ],
      "text/plain": [
       "   id    age  gender  height  weight  ap_hi  ap_lo  cholesterol  gluc  smoke  \\\n",
       "0   0  18393       2     168    62.0    110     80            1     1      0   \n",
       "1   1  20228       1     156    85.0    140     90            3     1      0   \n",
       "2   2  18857       1     165    64.0    130     70            3     1      0   \n",
       "3   3  17623       2     169    82.0    150    100            1     1      0   \n",
       "4   4  17474       1     156    56.0    100     60            1     1      0   \n",
       "5   8  21914       1     151    67.0    120     80            2     2      0   \n",
       "6   9  22113       1     157    93.0    130     80            3     1      0   \n",
       "7  12  22584       2     178    95.0    130     90            3     3      0   \n",
       "8  13  17668       1     158    71.0    110     70            1     1      0   \n",
       "9  14  19834       1     164    68.0    110     60            1     1      0   \n",
       "\n",
       "   alco  active  cardio  \n",
       "0     0       1       0  \n",
       "1     0       1       1  \n",
       "2     0       0       1  \n",
       "3     0       1       1  \n",
       "4     0       0       0  \n",
       "5     0       0       0  \n",
       "6     0       1       0  \n",
       "7     0       1       1  \n",
       "8     0       1       0  \n",
       "9     0       0       0  "
      ]
     },
     "execution_count": 329,
     "metadata": {},
     "output_type": "execute_result"
    }
   ],
   "source": [
    "df.head(10)"
   ]
  },
  {
   "cell_type": "markdown",
   "metadata": {},
   "source": [
    "Looking at the dataset, the age entries look a little off - after checking to make sure that the dataset has loaded correctly, I refer to the feature dictionary and found that age is defined in days, which gives the variable more precision. \n",
    "\n",
    "| Feature | Variable      | Value Type |\n",
    "|---------|---------------|------------|\n",
    "| Age | age | int (days) |\n",
    "| Height | height | int (cm) |\n",
    "| Weight | weight | float (kg) |\n",
    "| Gender | gender | categorical code |\n",
    "| Systolic blood pressure | ap_hi | int |\n",
    "| Diastolic blood pressure | ap_lo | int |\n",
    "| Cholesterol | cholesterol | 1: normal, 2: above normal, 3: well above normal |\n",
    "| Glucose | gluc | 1: normal, 2: above normal, 3: well above normal |\n",
    "| Smoking | smoke | binary |\n",
    "| Alcohol intake | alco | binary |\n",
    "| Physical activity | active | binary |\n",
    "| Presence or absence of cardiovascular disease | cardio | binary |\n"
   ]
  },
  {
   "cell_type": "markdown",
   "metadata": {},
   "source": [
    "<h3>02. Data Prep and Exploration</h3>"
   ]
  },
  {
   "cell_type": "markdown",
   "metadata": {},
   "source": [
    "First we need to make sure that there are no duplicates in the data. "
   ]
  },
  {
   "cell_type": "code",
   "execution_count": 330,
   "metadata": {},
   "outputs": [
    {
     "name": "stdout",
     "output_type": "stream",
     "text": [
      "Duplicated rows:  24\n",
      "Total rows:  70000\n"
     ]
    }
   ],
   "source": [
    "df.drop(columns=\"id\", inplace=True)\n",
    "print(\"Duplicated rows: \", df.duplicated().sum())\n",
    "print(\"Total rows: \", df.shape[0])"
   ]
  },
  {
   "cell_type": "code",
   "execution_count": 331,
   "metadata": {},
   "outputs": [
    {
     "name": "stdout",
     "output_type": "stream",
     "text": [
      "Duplicated rows:  0\n",
      "Total rows:  69976\n"
     ]
    }
   ],
   "source": [
    "df.drop_duplicates(inplace=True)\n",
    "print(\"Duplicated rows: \", df.duplicated().sum())\n",
    "print(\"Total rows: \", df.shape[0])"
   ]
  },
  {
   "cell_type": "markdown",
   "metadata": {},
   "source": [
    "Next we need to understand missing data and treat them accordingly."
   ]
  },
  {
   "cell_type": "code",
   "execution_count": 332,
   "metadata": {},
   "outputs": [
    {
     "name": "stdout",
     "output_type": "stream",
     "text": [
      "\n",
      "Missing Values : age            0\n",
      "gender         0\n",
      "height         0\n",
      "weight         0\n",
      "ap_hi          0\n",
      "ap_lo          0\n",
      "cholesterol    0\n",
      "gluc           0\n",
      "smoke          0\n",
      "alco           0\n",
      "active         0\n",
      "cardio         0\n",
      "dtype: int64\n"
     ]
    }
   ],
   "source": [
    "print(\"\\nMissing Values :\", df.isnull().sum())"
   ]
  },
  {
   "cell_type": "markdown",
   "metadata": {},
   "source": [
    "Surprisingly, there are no missing values, which is more reflective of the sample dataset than real world situations.\n",
    "\n",
    "Next, we see that numerical columns such as height and weight are quite straightforward, but it's deceptive to leave them as they are. This is especially evident with other features such as the blood pressure, where the numbers are less familiar in terms of scale. Hence all these numerical columns need to be normalized to understand better their scale relative to the rest of the dataset. This is also important to allow certain algorithms to perform better."
   ]
  },
  {
   "cell_type": "code",
   "execution_count": 333,
   "metadata": {},
   "outputs": [
    {
     "data": {
      "text/html": [
       "<div>\n",
       "<style scoped>\n",
       "    .dataframe tbody tr th:only-of-type {\n",
       "        vertical-align: middle;\n",
       "    }\n",
       "\n",
       "    .dataframe tbody tr th {\n",
       "        vertical-align: top;\n",
       "    }\n",
       "\n",
       "    .dataframe thead th {\n",
       "        text-align: right;\n",
       "    }\n",
       "</style>\n",
       "<table border=\"1\" class=\"dataframe\">\n",
       "  <thead>\n",
       "    <tr style=\"text-align: right;\">\n",
       "      <th></th>\n",
       "      <th>age</th>\n",
       "      <th>gender</th>\n",
       "      <th>height</th>\n",
       "      <th>weight</th>\n",
       "      <th>ap_hi</th>\n",
       "      <th>ap_lo</th>\n",
       "      <th>cholesterol</th>\n",
       "      <th>gluc</th>\n",
       "      <th>smoke</th>\n",
       "      <th>alco</th>\n",
       "      <th>active</th>\n",
       "      <th>cardio</th>\n",
       "      <th>age_norm</th>\n",
       "      <th>height_norm</th>\n",
       "      <th>weight_norm</th>\n",
       "      <th>ap_hi_norm</th>\n",
       "      <th>ap_lo_norm</th>\n",
       "    </tr>\n",
       "  </thead>\n",
       "  <tbody>\n",
       "    <tr>\n",
       "      <th>0</th>\n",
       "      <td>18393</td>\n",
       "      <td>2</td>\n",
       "      <td>168</td>\n",
       "      <td>62.0</td>\n",
       "      <td>110</td>\n",
       "      <td>80</td>\n",
       "      <td>1</td>\n",
       "      <td>1</td>\n",
       "      <td>0</td>\n",
       "      <td>0</td>\n",
       "      <td>1</td>\n",
       "      <td>0</td>\n",
       "      <td>0.775650</td>\n",
       "      <td>0.672</td>\n",
       "      <td>0.310</td>\n",
       "      <td>0.006866</td>\n",
       "      <td>0.007273</td>\n",
       "    </tr>\n",
       "    <tr>\n",
       "      <th>1</th>\n",
       "      <td>20228</td>\n",
       "      <td>1</td>\n",
       "      <td>156</td>\n",
       "      <td>85.0</td>\n",
       "      <td>140</td>\n",
       "      <td>90</td>\n",
       "      <td>3</td>\n",
       "      <td>1</td>\n",
       "      <td>0</td>\n",
       "      <td>0</td>\n",
       "      <td>1</td>\n",
       "      <td>1</td>\n",
       "      <td>0.853034</td>\n",
       "      <td>0.624</td>\n",
       "      <td>0.425</td>\n",
       "      <td>0.008739</td>\n",
       "      <td>0.008182</td>\n",
       "    </tr>\n",
       "    <tr>\n",
       "      <th>2</th>\n",
       "      <td>18857</td>\n",
       "      <td>1</td>\n",
       "      <td>165</td>\n",
       "      <td>64.0</td>\n",
       "      <td>130</td>\n",
       "      <td>70</td>\n",
       "      <td>3</td>\n",
       "      <td>1</td>\n",
       "      <td>0</td>\n",
       "      <td>0</td>\n",
       "      <td>0</td>\n",
       "      <td>1</td>\n",
       "      <td>0.795218</td>\n",
       "      <td>0.660</td>\n",
       "      <td>0.320</td>\n",
       "      <td>0.008115</td>\n",
       "      <td>0.006364</td>\n",
       "    </tr>\n",
       "    <tr>\n",
       "      <th>3</th>\n",
       "      <td>17623</td>\n",
       "      <td>2</td>\n",
       "      <td>169</td>\n",
       "      <td>82.0</td>\n",
       "      <td>150</td>\n",
       "      <td>100</td>\n",
       "      <td>1</td>\n",
       "      <td>1</td>\n",
       "      <td>0</td>\n",
       "      <td>0</td>\n",
       "      <td>1</td>\n",
       "      <td>1</td>\n",
       "      <td>0.743179</td>\n",
       "      <td>0.676</td>\n",
       "      <td>0.410</td>\n",
       "      <td>0.009363</td>\n",
       "      <td>0.009091</td>\n",
       "    </tr>\n",
       "    <tr>\n",
       "      <th>4</th>\n",
       "      <td>17474</td>\n",
       "      <td>1</td>\n",
       "      <td>156</td>\n",
       "      <td>56.0</td>\n",
       "      <td>100</td>\n",
       "      <td>60</td>\n",
       "      <td>1</td>\n",
       "      <td>1</td>\n",
       "      <td>0</td>\n",
       "      <td>0</td>\n",
       "      <td>0</td>\n",
       "      <td>0</td>\n",
       "      <td>0.736895</td>\n",
       "      <td>0.624</td>\n",
       "      <td>0.280</td>\n",
       "      <td>0.006242</td>\n",
       "      <td>0.005455</td>\n",
       "    </tr>\n",
       "    <tr>\n",
       "      <th>...</th>\n",
       "      <td>...</td>\n",
       "      <td>...</td>\n",
       "      <td>...</td>\n",
       "      <td>...</td>\n",
       "      <td>...</td>\n",
       "      <td>...</td>\n",
       "      <td>...</td>\n",
       "      <td>...</td>\n",
       "      <td>...</td>\n",
       "      <td>...</td>\n",
       "      <td>...</td>\n",
       "      <td>...</td>\n",
       "      <td>...</td>\n",
       "      <td>...</td>\n",
       "      <td>...</td>\n",
       "      <td>...</td>\n",
       "      <td>...</td>\n",
       "    </tr>\n",
       "    <tr>\n",
       "      <th>69995</th>\n",
       "      <td>19240</td>\n",
       "      <td>2</td>\n",
       "      <td>168</td>\n",
       "      <td>76.0</td>\n",
       "      <td>120</td>\n",
       "      <td>80</td>\n",
       "      <td>1</td>\n",
       "      <td>1</td>\n",
       "      <td>1</td>\n",
       "      <td>0</td>\n",
       "      <td>1</td>\n",
       "      <td>0</td>\n",
       "      <td>0.811369</td>\n",
       "      <td>0.672</td>\n",
       "      <td>0.380</td>\n",
       "      <td>0.007491</td>\n",
       "      <td>0.007273</td>\n",
       "    </tr>\n",
       "    <tr>\n",
       "      <th>69996</th>\n",
       "      <td>22601</td>\n",
       "      <td>1</td>\n",
       "      <td>158</td>\n",
       "      <td>126.0</td>\n",
       "      <td>140</td>\n",
       "      <td>90</td>\n",
       "      <td>2</td>\n",
       "      <td>2</td>\n",
       "      <td>0</td>\n",
       "      <td>0</td>\n",
       "      <td>1</td>\n",
       "      <td>1</td>\n",
       "      <td>0.953106</td>\n",
       "      <td>0.632</td>\n",
       "      <td>0.630</td>\n",
       "      <td>0.008739</td>\n",
       "      <td>0.008182</td>\n",
       "    </tr>\n",
       "    <tr>\n",
       "      <th>69997</th>\n",
       "      <td>19066</td>\n",
       "      <td>2</td>\n",
       "      <td>183</td>\n",
       "      <td>105.0</td>\n",
       "      <td>180</td>\n",
       "      <td>90</td>\n",
       "      <td>3</td>\n",
       "      <td>1</td>\n",
       "      <td>0</td>\n",
       "      <td>1</td>\n",
       "      <td>0</td>\n",
       "      <td>1</td>\n",
       "      <td>0.804032</td>\n",
       "      <td>0.732</td>\n",
       "      <td>0.525</td>\n",
       "      <td>0.011236</td>\n",
       "      <td>0.008182</td>\n",
       "    </tr>\n",
       "    <tr>\n",
       "      <th>69998</th>\n",
       "      <td>22431</td>\n",
       "      <td>1</td>\n",
       "      <td>163</td>\n",
       "      <td>72.0</td>\n",
       "      <td>135</td>\n",
       "      <td>80</td>\n",
       "      <td>1</td>\n",
       "      <td>2</td>\n",
       "      <td>0</td>\n",
       "      <td>0</td>\n",
       "      <td>0</td>\n",
       "      <td>1</td>\n",
       "      <td>0.945937</td>\n",
       "      <td>0.652</td>\n",
       "      <td>0.360</td>\n",
       "      <td>0.008427</td>\n",
       "      <td>0.007273</td>\n",
       "    </tr>\n",
       "    <tr>\n",
       "      <th>69999</th>\n",
       "      <td>20540</td>\n",
       "      <td>1</td>\n",
       "      <td>170</td>\n",
       "      <td>72.0</td>\n",
       "      <td>120</td>\n",
       "      <td>80</td>\n",
       "      <td>2</td>\n",
       "      <td>1</td>\n",
       "      <td>0</td>\n",
       "      <td>0</td>\n",
       "      <td>1</td>\n",
       "      <td>0</td>\n",
       "      <td>0.866192</td>\n",
       "      <td>0.680</td>\n",
       "      <td>0.360</td>\n",
       "      <td>0.007491</td>\n",
       "      <td>0.007273</td>\n",
       "    </tr>\n",
       "  </tbody>\n",
       "</table>\n",
       "<p>69976 rows × 17 columns</p>\n",
       "</div>"
      ],
      "text/plain": [
       "         age  gender  height  weight  ap_hi  ap_lo  cholesterol  gluc  smoke  \\\n",
       "0      18393       2     168    62.0    110     80            1     1      0   \n",
       "1      20228       1     156    85.0    140     90            3     1      0   \n",
       "2      18857       1     165    64.0    130     70            3     1      0   \n",
       "3      17623       2     169    82.0    150    100            1     1      0   \n",
       "4      17474       1     156    56.0    100     60            1     1      0   \n",
       "...      ...     ...     ...     ...    ...    ...          ...   ...    ...   \n",
       "69995  19240       2     168    76.0    120     80            1     1      1   \n",
       "69996  22601       1     158   126.0    140     90            2     2      0   \n",
       "69997  19066       2     183   105.0    180     90            3     1      0   \n",
       "69998  22431       1     163    72.0    135     80            1     2      0   \n",
       "69999  20540       1     170    72.0    120     80            2     1      0   \n",
       "\n",
       "       alco  active  cardio  age_norm  height_norm  weight_norm  ap_hi_norm  \\\n",
       "0         0       1       0  0.775650        0.672        0.310    0.006866   \n",
       "1         0       1       1  0.853034        0.624        0.425    0.008739   \n",
       "2         0       0       1  0.795218        0.660        0.320    0.008115   \n",
       "3         0       1       1  0.743179        0.676        0.410    0.009363   \n",
       "4         0       0       0  0.736895        0.624        0.280    0.006242   \n",
       "...     ...     ...     ...       ...          ...          ...         ...   \n",
       "69995     0       1       0  0.811369        0.672        0.380    0.007491   \n",
       "69996     0       1       1  0.953106        0.632        0.630    0.008739   \n",
       "69997     1       0       1  0.804032        0.732        0.525    0.011236   \n",
       "69998     0       0       1  0.945937        0.652        0.360    0.008427   \n",
       "69999     0       1       0  0.866192        0.680        0.360    0.007491   \n",
       "\n",
       "       ap_lo_norm  \n",
       "0        0.007273  \n",
       "1        0.008182  \n",
       "2        0.006364  \n",
       "3        0.009091  \n",
       "4        0.005455  \n",
       "...           ...  \n",
       "69995    0.007273  \n",
       "69996    0.008182  \n",
       "69997    0.008182  \n",
       "69998    0.007273  \n",
       "69999    0.007273  \n",
       "\n",
       "[69976 rows x 17 columns]"
      ]
     },
     "execution_count": 333,
     "metadata": {},
     "output_type": "execute_result"
    }
   ],
   "source": [
    "numerical_columns = ['age', 'height', 'weight', 'ap_hi', 'ap_lo']\n",
    "\n",
    "# scale each column accordingly\n",
    "for var_col in numerical_columns:\n",
    "    df[var_col + '_norm'] = df[var_col]/max(df[var_col])\n",
    "\n",
    "df"
   ]
  },
  {
   "cell_type": "markdown",
   "metadata": {},
   "source": [
    "We can see how the normalized columns compare to the original columns."
   ]
  },
  {
   "cell_type": "code",
   "execution_count": 334,
   "metadata": {},
   "outputs": [
    {
     "data": {
      "text/plain": [
       "Text(0.5, 1.0, 'Age (Years)')"
      ]
     },
     "execution_count": 334,
     "metadata": {},
     "output_type": "execute_result"
    },
    {
     "data": {
      "text/plain": [
       "<Figure size 504x216 with 0 Axes>"
      ]
     },
     "metadata": {},
     "output_type": "display_data"
    },
    {
     "data": {
      "image/png": "[encoded data removed]",
      "text/plain": [
       "<Figure size 720x360 with 2 Axes>"
      ]
     },
     "metadata": {
      "needs_background": "light"
     },
     "output_type": "display_data"
    }
   ],
   "source": [
    "has_disease = df.loc[df[\"cardio\"]==1]\n",
    "\n",
    "age_target_norm = has_disease[\"age_norm\"]\n",
    "age_df_norm = df[\"age_norm\"]\n",
    "bins1 = [(x+1)/20 for x in range(20)]\n",
    "\n",
    "plt.figure(figsize=(7, 3))\n",
    "age_target = has_disease[\"age\"]/365\n",
    "age_df = df[\"age\"]/365\n",
    "bins2 = [x for x in range(1,100,5)]\n",
    "\n",
    "f, (ax1, ax2) = plt.subplots(1, 2, sharey=True, figsize=(10, 5))\n",
    "\n",
    "ax1.hist([age_df_norm, age_target_norm.values], bins=bins1, rwidth=0.7)\n",
    "ax1.set_title('Age (Norm.)')\n",
    "ax2.hist([age_df, age_target.values], bins=bins2, rwidth=0.7)\n",
    "ax2.set_title('Age (Years)')"
   ]
  },
  {
   "cell_type": "markdown",
   "metadata": {},
   "source": [
    "In the normalized dataset, the distribution is more spread out and we can easily see that the dataset is skewed to the left. Knowing the distribution of the underlying sample is important in interpreting the results of the data exploration exercise as it allows us to compare the proportion of the sample that has cardiovascular disease vs misreporting overrepresented samples."
   ]
  },
  {
   "cell_type": "code",
   "execution_count": 335,
   "metadata": {},
   "outputs": [
    {
     "data": {
      "text/html": [
       "<div>\n",
       "<style scoped>\n",
       "    .dataframe tbody tr th:only-of-type {\n",
       "        vertical-align: middle;\n",
       "    }\n",
       "\n",
       "    .dataframe tbody tr th {\n",
       "        vertical-align: top;\n",
       "    }\n",
       "\n",
       "    .dataframe thead th {\n",
       "        text-align: right;\n",
       "    }\n",
       "</style>\n",
       "<table border=\"1\" class=\"dataframe\">\n",
       "  <thead>\n",
       "    <tr style=\"text-align: right;\">\n",
       "      <th>cardio</th>\n",
       "      <th>age_bins</th>\n",
       "      <th>0</th>\n",
       "      <th>1</th>\n",
       "      <th>Proportion</th>\n",
       "    </tr>\n",
       "  </thead>\n",
       "  <tbody>\n",
       "    <tr>\n",
       "      <th>0</th>\n",
       "      <td>(0.05, 0.1]</td>\n",
       "      <td>0</td>\n",
       "      <td>0</td>\n",
       "      <td>NaN</td>\n",
       "    </tr>\n",
       "    <tr>\n",
       "      <th>1</th>\n",
       "      <td>(0.1, 0.15]</td>\n",
       "      <td>0</td>\n",
       "      <td>0</td>\n",
       "      <td>NaN</td>\n",
       "    </tr>\n",
       "    <tr>\n",
       "      <th>2</th>\n",
       "      <td>(0.15, 0.2]</td>\n",
       "      <td>0</td>\n",
       "      <td>0</td>\n",
       "      <td>NaN</td>\n",
       "    </tr>\n",
       "    <tr>\n",
       "      <th>3</th>\n",
       "      <td>(0.2, 0.25]</td>\n",
       "      <td>0</td>\n",
       "      <td>0</td>\n",
       "      <td>NaN</td>\n",
       "    </tr>\n",
       "    <tr>\n",
       "      <th>4</th>\n",
       "      <td>(0.25, 0.3]</td>\n",
       "      <td>0</td>\n",
       "      <td>0</td>\n",
       "      <td>NaN</td>\n",
       "    </tr>\n",
       "    <tr>\n",
       "      <th>5</th>\n",
       "      <td>(0.3, 0.35]</td>\n",
       "      <td>0</td>\n",
       "      <td>0</td>\n",
       "      <td>NaN</td>\n",
       "    </tr>\n",
       "    <tr>\n",
       "      <th>6</th>\n",
       "      <td>(0.35, 0.4]</td>\n",
       "      <td>0</td>\n",
       "      <td>0</td>\n",
       "      <td>NaN</td>\n",
       "    </tr>\n",
       "    <tr>\n",
       "      <th>7</th>\n",
       "      <td>(0.4, 0.45]</td>\n",
       "      <td>0</td>\n",
       "      <td>0</td>\n",
       "      <td>NaN</td>\n",
       "    </tr>\n",
       "    <tr>\n",
       "      <th>8</th>\n",
       "      <td>(0.45, 0.5]</td>\n",
       "      <td>4</td>\n",
       "      <td>0</td>\n",
       "      <td>0.000000</td>\n",
       "    </tr>\n",
       "    <tr>\n",
       "      <th>9</th>\n",
       "      <td>(0.5, 0.55]</td>\n",
       "      <td>0</td>\n",
       "      <td>0</td>\n",
       "      <td>NaN</td>\n",
       "    </tr>\n",
       "    <tr>\n",
       "      <th>10</th>\n",
       "      <td>(0.55, 0.6]</td>\n",
       "      <td>0</td>\n",
       "      <td>0</td>\n",
       "      <td>NaN</td>\n",
       "    </tr>\n",
       "    <tr>\n",
       "      <th>11</th>\n",
       "      <td>(0.6, 0.65]</td>\n",
       "      <td>4462</td>\n",
       "      <td>1559</td>\n",
       "      <td>0.258927</td>\n",
       "    </tr>\n",
       "    <tr>\n",
       "      <th>12</th>\n",
       "      <td>(0.65, 0.7]</td>\n",
       "      <td>3024</td>\n",
       "      <td>1688</td>\n",
       "      <td>0.358234</td>\n",
       "    </tr>\n",
       "    <tr>\n",
       "      <th>13</th>\n",
       "      <td>(0.7, 0.75]</td>\n",
       "      <td>4030</td>\n",
       "      <td>3155</td>\n",
       "      <td>0.439109</td>\n",
       "    </tr>\n",
       "    <tr>\n",
       "      <th>14</th>\n",
       "      <td>(0.75, 0.8]</td>\n",
       "      <td>5652</td>\n",
       "      <td>4259</td>\n",
       "      <td>0.429725</td>\n",
       "    </tr>\n",
       "    <tr>\n",
       "      <th>15</th>\n",
       "      <td>(0.8, 0.85]</td>\n",
       "      <td>5650</td>\n",
       "      <td>5315</td>\n",
       "      <td>0.484724</td>\n",
       "    </tr>\n",
       "    <tr>\n",
       "      <th>16</th>\n",
       "      <td>(0.85, 0.9]</td>\n",
       "      <td>6154</td>\n",
       "      <td>7680</td>\n",
       "      <td>0.555154</td>\n",
       "    </tr>\n",
       "    <tr>\n",
       "      <th>17</th>\n",
       "      <td>(0.9, 0.95]</td>\n",
       "      <td>3503</td>\n",
       "      <td>5438</td>\n",
       "      <td>0.608209</td>\n",
       "    </tr>\n",
       "    <tr>\n",
       "      <th>18</th>\n",
       "      <td>(0.95, 1.0]</td>\n",
       "      <td>2525</td>\n",
       "      <td>5878</td>\n",
       "      <td>0.699512</td>\n",
       "    </tr>\n",
       "  </tbody>\n",
       "</table>\n",
       "</div>"
      ],
      "text/plain": [
       "cardio     age_bins     0     1  Proportion\n",
       "0       (0.05, 0.1]     0     0         NaN\n",
       "1       (0.1, 0.15]     0     0         NaN\n",
       "2       (0.15, 0.2]     0     0         NaN\n",
       "3       (0.2, 0.25]     0     0         NaN\n",
       "4       (0.25, 0.3]     0     0         NaN\n",
       "5       (0.3, 0.35]     0     0         NaN\n",
       "6       (0.35, 0.4]     0     0         NaN\n",
       "7       (0.4, 0.45]     0     0         NaN\n",
       "8       (0.45, 0.5]     4     0    0.000000\n",
       "9       (0.5, 0.55]     0     0         NaN\n",
       "10      (0.55, 0.6]     0     0         NaN\n",
       "11      (0.6, 0.65]  4462  1559    0.258927\n",
       "12      (0.65, 0.7]  3024  1688    0.358234\n",
       "13      (0.7, 0.75]  4030  3155    0.439109\n",
       "14      (0.75, 0.8]  5652  4259    0.429725\n",
       "15      (0.8, 0.85]  5650  5315    0.484724\n",
       "16      (0.85, 0.9]  6154  7680    0.555154\n",
       "17      (0.9, 0.95]  3503  5438    0.608209\n",
       "18      (0.95, 1.0]  2525  5878    0.699512"
      ]
     },
     "execution_count": 335,
     "metadata": {},
     "output_type": "execute_result"
    }
   ],
   "source": [
    "df[\"age_bins\"] = pd.cut(df['age_norm'], bins=bins1)\n",
    "\n",
    "# Proportion of dataset having cardiovascular disease, by age\n",
    "prop_age_target = pd.DataFrame(df.groupby([\"age_bins\",\"cardio\"])[\"cardio\"].count().unstack().reset_index())\n",
    "prop_age_target[\"Proportion\"] = prop_age_target[1]/(prop_age_target[0] + prop_age_target[1])\n",
    "prop_age_target.tail(10)\n",
    "\n",
    "prop_age_target"
   ]
  },
  {
   "cell_type": "markdown",
   "metadata": {},
   "source": [
    "Here we see that the older populations have a higher risk of having a cardiovascular disease."
   ]
  },
  {
   "cell_type": "code",
   "execution_count": 336,
   "metadata": {},
   "outputs": [
    {
     "name": "stdout",
     "output_type": "stream",
     "text": [
      "Distribution of gender in sample\n",
      "1    22610\n",
      "2    12362\n",
      "Name: gender, dtype: int64\n",
      "\n",
      "Distribution of gender with cardiovascular disease\n",
      "1    45509\n",
      "2    24467\n",
      "Name: gender, dtype: int64\n",
      "\n",
      "% gender with cardiovascular disease\n",
      "[0.4968248  0.50525197]\n"
     ]
    }
   ],
   "source": [
    "gender_target = has_disease[\"gender\"].value_counts()\n",
    "gender_df = df[\"gender\"].value_counts()\n",
    "\n",
    "print(\"Distribution of gender in sample\")\n",
    "print(gender_target)\n",
    "print(\"\")\n",
    "\n",
    "print(\"Distribution of gender with cardiovascular disease\")\n",
    "print(gender_df)\n",
    "print(\"\")\n",
    "\n",
    "print(\"% gender with cardiovascular disease\")\n",
    "print(gender_target.values/gender_df.values)"
   ]
  },
  {
   "cell_type": "markdown",
   "metadata": {},
   "source": [
    "Gender seems to matter less. We'll take a look at the rest of the numerical column to see that they make sense."
   ]
  },
  {
   "cell_type": "code",
   "execution_count": 337,
   "metadata": {},
   "outputs": [
    {
     "data": {
      "text/plain": [
       "Text(0.5, 1.0, 'Diastolic blood pressure (Norm)')"
      ]
     },
     "execution_count": 337,
     "metadata": {},
     "output_type": "execute_result"
    },
    {
     "data": {
      "image/png": "[encoded data removed]",
      "text/plain": [
       "<Figure size 1080x216 with 4 Axes>"
      ]
     },
     "metadata": {
      "needs_background": "light"
     },
     "output_type": "display_data"
    }
   ],
   "source": [
    "f, (ax1, ax2, ax3, ax4) = plt.subplots(1, 4, figsize=(15, 3))\n",
    "\n",
    "ax1.hist([df[\"height_norm\"], has_disease[\"height_norm\"].values], bins=bins1, rwidth=0.7)\n",
    "ax1.set_title('Height (Norm)')\n",
    "ax2.hist([df[\"weight_norm\"], has_disease[\"weight_norm\"].values], bins=bins1, rwidth=0.7)\n",
    "ax2.set_title('Weight (Norm)')\n",
    "ax3.hist([df[\"ap_hi_norm\"], has_disease[\"ap_hi_norm\"].values], bins=bins1, rwidth=0.7)\n",
    "ax3.set_title('Systolic blood pressure (Norm)')\n",
    "ax4.hist([df[\"ap_lo_norm\"], has_disease[\"ap_lo_norm\"].values], bins=bins1, rwidth=0.7)\n",
    "ax4.set_title('Diastolic blood pressure (Norm)')"
   ]
  },
  {
   "cell_type": "markdown",
   "metadata": {},
   "source": [
    "The blood pressure features seem a bit off. It looks like there are some outliers in the data causing the data to normalize by a constant that doesn't make sense. "
   ]
  },
  {
   "cell_type": "code",
   "execution_count": 338,
   "metadata": {},
   "outputs": [
    {
     "name": "stdout",
     "output_type": "stream",
     "text": [
      "Max of ap_lo:  11000\n",
      "Max of ap_hi:  16020\n",
      "95th quantile of ap_lo:  100.0\n",
      "95th quantile of ap_hi:  160.0\n"
     ]
    }
   ],
   "source": [
    "print(\"Max of ap_lo: \", max(df[\"ap_lo\"]))\n",
    "print(\"Max of ap_hi: \", max(df[\"ap_hi\"]))\n",
    "\n",
    "print(\"95th quantile of ap_lo: \", df[\"ap_lo\"].quantile(0.95))\n",
    "print(\"95th quantile of ap_hi: \", df[\"ap_hi\"].quantile(0.95))"
   ]
  },
  {
   "cell_type": "markdown",
   "metadata": {},
   "source": [
    "We'll redo the normalization of these two columns, this time using the 95th quantile as the normalization constant rather than the max. In this step we'll also drop the rows with values above this quantile."
   ]
  },
  {
   "cell_type": "code",
   "execution_count": 339,
   "metadata": {},
   "outputs": [
    {
     "name": "stdout",
     "output_type": "stream",
     "text": [
      "Total rows:  69976\n",
      "Rows with outlier data:  3069\n",
      "Total rows:  66907\n"
     ]
    }
   ],
   "source": [
    "ap_lo_above_qnt = df[\"ap_lo\"]>df[\"ap_lo\"].quantile(0.95)\n",
    "ap_hi_above_qnt = df[\"ap_hi\"]>df[\"ap_hi\"].quantile(0.95)\n",
    "\n",
    "print(\"Total rows: \", df.shape[0])\n",
    "print(\"Rows with outlier data: \", len(df[ap_lo_above_qnt|ap_hi_above_qnt].index))\n",
    "\n",
    "df.drop(df[ap_lo_above_qnt|ap_hi_above_qnt].index, inplace=True)\n",
    "print(\"Total rows: \", df.shape[0]) \n"
   ]
  },
  {
   "cell_type": "code",
   "execution_count": 340,
   "metadata": {},
   "outputs": [
    {
     "name": "stdout",
     "output_type": "stream",
     "text": [
      "100\n",
      "160\n"
     ]
    }
   ],
   "source": [
    "for var_col in [\"ap_lo\",\"ap_hi\"]:\n",
    "    df[var_col + '_norm'] = df[var_col]/max(df[var_col])\n",
    "    print(max(df[var_col]))"
   ]
  },
  {
   "cell_type": "code",
   "execution_count": 341,
   "metadata": {},
   "outputs": [
    {
     "data": {
      "text/plain": [
       "Text(0.5, 1.0, 'Diastolic blood pressure (Norm)')"
      ]
     },
     "execution_count": 341,
     "metadata": {},
     "output_type": "execute_result"
    },
    {
     "data": {
      "image/png": "[encoded data removed]",
      "text/plain": [
       "<Figure size 1152x216 with 4 Axes>"
      ]
     },
     "metadata": {
      "needs_background": "light"
     },
     "output_type": "display_data"
    }
   ],
   "source": [
    "has_disease = df.loc[df[\"cardio\"]==1]\n",
    "\n",
    "f, (ax1, ax2, ax3, ax4) = plt.subplots(1, 4, figsize=(16, 3))\n",
    "\n",
    "ax1.hist([df[\"height_norm\"], has_disease[\"height_norm\"].values], bins=bins1, rwidth=0.7)\n",
    "ax1.set_title('Height (Norm)')\n",
    "ax2.hist([df[\"weight_norm\"], has_disease[\"weight_norm\"].values], bins=bins1, rwidth=0.7)\n",
    "ax2.set_title('Weight (Norm)')\n",
    "ax3.hist([df[\"ap_hi_norm\"], has_disease[\"ap_hi_norm\"].values], bins=bins1, rwidth=0.7)\n",
    "ax3.set_title('Systolic blood pressure (Norm)')\n",
    "ax4.hist([df[\"ap_lo_norm\"],has_disease[\"ap_lo_norm\"].values], bins=bins1, rwidth=0.7)\n",
    "ax4.set_title('Diastolic blood pressure (Norm)')"
   ]
  },
  {
   "cell_type": "markdown",
   "metadata": {},
   "source": [
    "We can do a similar check for categorical data:"
   ]
  },
  {
   "cell_type": "code",
   "execution_count": 342,
   "metadata": {},
   "outputs": [
    {
     "data": {
      "text/plain": [
       "Text(0.5, 1.0, 'Active')"
      ]
     },
     "execution_count": 342,
     "metadata": {},
     "output_type": "execute_result"
    },
    {
     "data": {
      "image/png": "[encoded data removed]",
      "text/plain": [
       "<Figure size 1440x360 with 5 Axes>"
      ]
     },
     "metadata": {
      "needs_background": "light"
     },
     "output_type": "display_data"
    }
   ],
   "source": [
    "width=0.2\n",
    "f, (ax1, ax2,ax3,ax4,ax5) = plt.subplots(1,5, figsize=(20, 5))\n",
    "\n",
    "ax1.bar(x=df[\"cholesterol\"].value_counts().index-0.1, height=df[\"cholesterol\"].value_counts().values, width=width)\n",
    "ax1.bar(x=df[\"cholesterol\"].value_counts().index+0.1, height=has_disease[\"cholesterol\"].value_counts().values, width=width, label=\"Has disease\")\n",
    "ax1.set_title('Cholesterol')\n",
    "ax1.legend()\n",
    "\n",
    "\n",
    "ax2.bar(x=df[\"gluc\"].value_counts().index-0.1, height=df[\"gluc\"].value_counts().values, width=width)\n",
    "ax2.bar(x=df[\"gluc\"].value_counts().index+0.1, height=has_disease[\"gluc\"].value_counts().values, width=width)\n",
    "ax2.set_title('Glucose')\n",
    "\n",
    "ax3.bar(x=df[\"alco\"].value_counts().index-0.1, height=df[\"alco\"].value_counts().values, width=width)\n",
    "ax3.bar(x=df[\"alco\"].value_counts().index+0.1, height=has_disease[\"alco\"].value_counts().values, width=width)\n",
    "ax3.set_title('Alcohol')\n",
    "\n",
    "ax4.bar(x=df[\"smoke\"].value_counts().index-0.1, height=df[\"smoke\"].value_counts().values, width=width)\n",
    "ax4.bar(x=df[\"smoke\"].value_counts().index+0.1, height=has_disease[\"smoke\"].value_counts().values, width=width)\n",
    "ax4.set_title('Smoke')\n",
    "\n",
    "ax5.bar(x=df[\"active\"].value_counts().index-0.1, height=df[\"active\"].value_counts().values, width=width)\n",
    "ax5.bar(x=df[\"active\"].value_counts().index+0.1, height=has_disease[\"active\"].value_counts().values, width=width)\n",
    "ax5.set_title('Active')\n"
   ]
  },
  {
   "cell_type": "markdown",
   "metadata": {},
   "source": [
    "<h3>03. Feature Engineering</h3>"
   ]
  },
  {
   "cell_type": "markdown",
   "metadata": {},
   "source": [
    "For the next part I'm interested in the features that have the most predictive value. While this dataset already presents the most relevant features (as a benchmark, a comparable heart disease dataset from the UCI Machine Learning Repository only uses 14 out of the 75 features collected), I'm curious to investigate the magnitude of importance of these features and if we can curate them better before feeding into the model. This step is important to:\n",
    "- Avoid overfitting. While more features give more information for the model to learn from, the model might be too customized to the dataset and becomes unable to generalize  \n",
    "- Improve dataset quality by avoiding feeding redundant or harmful information to the model\n",
    "- Improve time and space efficiency\n",
    "\n",
    "\n",
    "Feature engineering includes feature selection and feature extraction techniques:\n",
    "\n",
    "**(A) Feature selection** refers to the subsetting of the features of a dataset by selecting the most relevant ones. This can be done through manual inspection or through feature selection algorithms. These algorithms are divided into three types: filter methods, wrapper methods, and embedded methods. \n",
    "- Filter methods essentially applies a statistical metric (chi-square, correlation) on the features and filter based on those metrics. \n",
    "- Wrapper methods are search algorithms for the most relevant features. For example, recursive backwards elimination recursively considers a smaller and smaller subset of features until a threshold is reached.\n",
    "- Embedded methods function like mini machines that have their own algorithms for feature selection. Regularization and tree-based feature selections belong here.\n",
    "\n",
    "**(B) Feature extraction** refers to dimension reduction techniques that involve mathematically summarizing a large number of features into a smaller, compact set of features. This is done through dimensionality reduction algorithms such as principal component analysis, linear discriminant analysis, or autoencoding (non-linear dimensionality reduction)."
   ]
  },
  {
   "cell_type": "markdown",
   "metadata": {},
   "source": [
    "Before we can get started on investigating feature reduction techniques, we need to convert categorical variables into labels. Here I've opted for one-hot encoding as there are not too many of them. \n",
    "\n",
    "We encode them because the numerical values belonging to the categorical variables have no intrinsic numerical value, i.e. there is no sense of ordering. For example, the binary values [0,1] for the \"Smoke\" variable\" only indicates presence. Even ordinal variables, such as \"Cholesterol\", which takes on the values 1: normal, 2: above normal, 3: well above normal, need to be encoded because those values do not have a mathematical scale."
   ]
  },
  {
   "cell_type": "code",
   "execution_count": 378,
   "metadata": {},
   "outputs": [
    {
     "name": "stdout",
     "output_type": "stream",
     "text": [
      "No. of features:  18\n",
      "No. of features after adding dummies:  20\n"
     ]
    },
    {
     "data": {
      "text/plain": [
       "Index(['age', 'height', 'weight', 'ap_hi', 'ap_lo', 'cardio', 'age_norm',\n",
       "       'height_norm', 'weight_norm', 'ap_hi_norm', 'ap_lo_norm', 'age_bins',\n",
       "       'gender_2', 'cholesterol_2', 'cholesterol_3', 'gluc_2', 'gluc_3',\n",
       "       'smoke_1', 'alco_1', 'active_1'],\n",
       "      dtype='object')"
      ]
     },
     "execution_count": 378,
     "metadata": {},
     "output_type": "execute_result"
    }
   ],
   "source": [
    "print(\"No. of features: \", df.shape[1])\n",
    "\n",
    "cat_columns = [\"gender\", \"cholesterol\",\"gluc\",\"smoke\",\"alco\",\"active\"]\n",
    "data = pd.get_dummies(df, prefix_sep=\"_\", columns=cat_columns, drop_first=True ) # drop first variable to avoid multicollinearity\n",
    "print(\"No. of features after adding dummies: \", data.shape[1])\n",
    "\n",
    "data.columns"
   ]
  },
  {
   "cell_type": "code",
   "execution_count": 379,
   "metadata": {},
   "outputs": [],
   "source": [
    "x = data[['age_norm',\n",
    "       'height_norm', 'weight_norm', 'ap_hi_norm', 'ap_lo_norm',\n",
    "       'gender_2', 'cholesterol_2', 'cholesterol_3', 'gluc_2', 'gluc_3',\n",
    "       'smoke_1', 'alco_1', 'active_1']]\n",
    "\n",
    "y = data[\"cardio\"]"
   ]
  },
  {
   "cell_type": "markdown",
   "metadata": {},
   "source": [
    "**(A.1) Feature Selection: Chi-square (filter method)**\n",
    "\n",
    "I'm going to start with one of the simpler feature selection methods: a chi-square filter. The chi-square test essentially tests the relationships between categorical variables. It compares whether the presence of each variable affecting the target variable is a result of the variable's effect or pure chance. "
   ]
  },
  {
   "cell_type": "code",
   "execution_count": 469,
   "metadata": {},
   "outputs": [
    {
     "data": {
      "text/html": [
       "<div>\n",
       "<style scoped>\n",
       "    .dataframe tbody tr th:only-of-type {\n",
       "        vertical-align: middle;\n",
       "    }\n",
       "\n",
       "    .dataframe tbody tr th {\n",
       "        vertical-align: top;\n",
       "    }\n",
       "\n",
       "    .dataframe thead th {\n",
       "        text-align: right;\n",
       "    }\n",
       "</style>\n",
       "<table border=\"1\" class=\"dataframe\">\n",
       "  <thead>\n",
       "    <tr style=\"text-align: right;\">\n",
       "      <th></th>\n",
       "      <th>p-values</th>\n",
       "      <th>below_threshold</th>\n",
       "    </tr>\n",
       "  </thead>\n",
       "  <tbody>\n",
       "    <tr>\n",
       "      <th>cholesterol_3</th>\n",
       "      <td>0.000000e+00</td>\n",
       "      <td>True</td>\n",
       "    </tr>\n",
       "    <tr>\n",
       "      <th>cholesterol_2</th>\n",
       "      <td>2.810169e-74</td>\n",
       "      <td>True</td>\n",
       "    </tr>\n",
       "    <tr>\n",
       "      <th>gluc_3</th>\n",
       "      <td>2.410293e-69</td>\n",
       "      <td>True</td>\n",
       "    </tr>\n",
       "    <tr>\n",
       "      <th>gluc_2</th>\n",
       "      <td>6.445501e-34</td>\n",
       "      <td>True</td>\n",
       "    </tr>\n",
       "    <tr>\n",
       "      <th>smoke_1</th>\n",
       "      <td>9.218478e-07</td>\n",
       "      <td>True</td>\n",
       "    </tr>\n",
       "    <tr>\n",
       "      <th>active_1</th>\n",
       "      <td>9.665240e-06</td>\n",
       "      <td>True</td>\n",
       "    </tr>\n",
       "    <tr>\n",
       "      <th>alco_1</th>\n",
       "      <td>2.074510e-03</td>\n",
       "      <td>True</td>\n",
       "    </tr>\n",
       "    <tr>\n",
       "      <th>gender_2</th>\n",
       "      <td>3.911330e-01</td>\n",
       "      <td>False</td>\n",
       "    </tr>\n",
       "  </tbody>\n",
       "</table>\n",
       "</div>"
      ],
      "text/plain": [
       "                   p-values  below_threshold\n",
       "cholesterol_3  0.000000e+00             True\n",
       "cholesterol_2  2.810169e-74             True\n",
       "gluc_3         2.410293e-69             True\n",
       "gluc_2         6.445501e-34             True\n",
       "smoke_1        9.218478e-07             True\n",
       "active_1       9.665240e-06             True\n",
       "alco_1         2.074510e-03             True\n",
       "gender_2       3.911330e-01            False"
      ]
     },
     "execution_count": 469,
     "metadata": {},
     "output_type": "execute_result"
    }
   ],
   "source": [
    "from sklearn.feature_selection import chi2\n",
    "p_value_threshold = 0.01\n",
    "chi_cat_columns = ['gender_2', 'cholesterol_2', 'cholesterol_3', 'gluc_2', 'gluc_3',\n",
    "       'smoke_1', 'alco_1', 'active_1']\n",
    "chi_scores = chi2(x[chi_cat_columns], y)\n",
    "\n",
    "p_values = pd.DataFrame(chi_scores[1],index = [chi_cat_columns], columns=[\"p-values\"])\n",
    "p_values[\"below_threshold\"] = p_values[\"p-values\"]<p_value_threshold\n",
    "p_values.sort_values(by='p-values')"
   ]
  },
  {
   "cell_type": "markdown",
   "metadata": {},
   "source": [
    "The chi-square reports the p-value for each variable, which is the probability that we observe the target variable if the null hypothesis (the variable has no effect) is correct. If the p-value is below the threshold (usually defined around levels of 0.05 or 0.01), we reject the null hypothesis and accept that the variable's effect is not due to chance. Here we see that the gender is at the bottom of the list - from our initial analysis earlier the gender distribution between absence and presence of disease is pretty balanced. \n",
    "\n",
    "One thing to remember is that this chi-square test considers the categorical variables in isolation from the rest of the features. When the other features are added, the importance may vary. Still, this gives us a starting point to confirm our initial hypotheses."
   ]
  },
  {
   "cell_type": "markdown",
   "metadata": {},
   "source": [
    "**(A.2) Feature Selection: Recursive backwards elimination (wrapper method)**\n",
    "\n",
    "This feature selection method starts with a model (we can specify what kind of model) and a desired number of features. The technique examines the p-values of the model at every iteration and removes the feature with the lowest p-value. It does this iteratively until the model is left with the desired number of features."
   ]
  },
  {
   "cell_type": "code",
   "execution_count": 470,
   "metadata": {},
   "outputs": [],
   "source": [
    "data_sample = data.sample(n=3000, random_state=random_state) # Use a smaller dataset \n",
    "\n",
    "x_sample = data_sample[['age_norm',\n",
    "       'height_norm', 'weight_norm', 'ap_hi_norm', 'ap_lo_norm',\n",
    "       'gender_2', 'cholesterol_2', 'cholesterol_3', 'gluc_2', 'gluc_3',\n",
    "       'smoke_1', 'alco_1', 'active_1']]\n",
    "\n",
    "y_sample = data_sample[\"cardio\"]"
   ]
  },
  {
   "cell_type": "code",
   "execution_count": 471,
   "metadata": {},
   "outputs": [],
   "source": [
    "num_feats = 10\n",
    "\n",
    "from sklearn.feature_selection import RFE\n",
    "from sklearn.svm import SVR\n",
    "estimator = SVR(kernel=\"linear\")\n",
    "selector = RFE(estimator, n_features_to_select=num_feats, step=1)\n",
    "selector = selector.fit(x_sample, y_sample)"
   ]
  },
  {
   "cell_type": "code",
   "execution_count": 472,
   "metadata": {},
   "outputs": [
    {
     "data": {
      "text/html": [
       "<div>\n",
       "<style scoped>\n",
       "    .dataframe tbody tr th:only-of-type {\n",
       "        vertical-align: middle;\n",
       "    }\n",
       "\n",
       "    .dataframe tbody tr th {\n",
       "        vertical-align: top;\n",
       "    }\n",
       "\n",
       "    .dataframe thead th {\n",
       "        text-align: right;\n",
       "    }\n",
       "</style>\n",
       "<table border=\"1\" class=\"dataframe\">\n",
       "  <thead>\n",
       "    <tr style=\"text-align: right;\">\n",
       "      <th></th>\n",
       "      <th>Ranking</th>\n",
       "      <th>Selected</th>\n",
       "    </tr>\n",
       "  </thead>\n",
       "  <tbody>\n",
       "    <tr>\n",
       "      <th>age_norm</th>\n",
       "      <td>1</td>\n",
       "      <td>True</td>\n",
       "    </tr>\n",
       "    <tr>\n",
       "      <th>height_norm</th>\n",
       "      <td>1</td>\n",
       "      <td>True</td>\n",
       "    </tr>\n",
       "    <tr>\n",
       "      <th>weight_norm</th>\n",
       "      <td>1</td>\n",
       "      <td>True</td>\n",
       "    </tr>\n",
       "    <tr>\n",
       "      <th>ap_hi_norm</th>\n",
       "      <td>1</td>\n",
       "      <td>True</td>\n",
       "    </tr>\n",
       "    <tr>\n",
       "      <th>ap_lo_norm</th>\n",
       "      <td>1</td>\n",
       "      <td>True</td>\n",
       "    </tr>\n",
       "    <tr>\n",
       "      <th>cholesterol_2</th>\n",
       "      <td>1</td>\n",
       "      <td>True</td>\n",
       "    </tr>\n",
       "    <tr>\n",
       "      <th>cholesterol_3</th>\n",
       "      <td>1</td>\n",
       "      <td>True</td>\n",
       "    </tr>\n",
       "    <tr>\n",
       "      <th>gluc_2</th>\n",
       "      <td>1</td>\n",
       "      <td>True</td>\n",
       "    </tr>\n",
       "    <tr>\n",
       "      <th>gluc_3</th>\n",
       "      <td>1</td>\n",
       "      <td>True</td>\n",
       "    </tr>\n",
       "    <tr>\n",
       "      <th>active_1</th>\n",
       "      <td>1</td>\n",
       "      <td>True</td>\n",
       "    </tr>\n",
       "    <tr>\n",
       "      <th>alco_1</th>\n",
       "      <td>2</td>\n",
       "      <td>False</td>\n",
       "    </tr>\n",
       "    <tr>\n",
       "      <th>smoke_1</th>\n",
       "      <td>3</td>\n",
       "      <td>False</td>\n",
       "    </tr>\n",
       "    <tr>\n",
       "      <th>gender_2</th>\n",
       "      <td>4</td>\n",
       "      <td>False</td>\n",
       "    </tr>\n",
       "  </tbody>\n",
       "</table>\n",
       "</div>"
      ],
      "text/plain": [
       "               Ranking  Selected\n",
       "age_norm             1      True\n",
       "height_norm          1      True\n",
       "weight_norm          1      True\n",
       "ap_hi_norm           1      True\n",
       "ap_lo_norm           1      True\n",
       "cholesterol_2        1      True\n",
       "cholesterol_3        1      True\n",
       "gluc_2               1      True\n",
       "gluc_3               1      True\n",
       "active_1             1      True\n",
       "alco_1               2     False\n",
       "smoke_1              3     False\n",
       "gender_2             4     False"
      ]
     },
     "execution_count": 472,
     "metadata": {},
     "output_type": "execute_result"
    }
   ],
   "source": [
    "pd.DataFrame({'Ranking': selector.ranking_,\n",
    "              'Selected': selector.support_,},\n",
    "             index=x_sample.columns).sort_values(\"Ranking\")"
   ]
  },
  {
   "cell_type": "markdown",
   "metadata": {},
   "source": [
    "I've specified an arbitrary 10 as the number of features to select, but we can see again that gender is excluded from the shortlist of features."
   ]
  },
  {
   "cell_type": "markdown",
   "metadata": {},
   "source": [
    "**(A.3) Feature Selection: Selection from Model (embedded method)**\n",
    "\n",
    "Embedded methods start by training a machine learning model on all the features. They derive the feature importance of each feature. Tree-based algorithms are usually used as the base model for this method because tree-based algorithms ranks features by how well they improve the purity of the node. Nodes with the greatest decrease in impurity happen at the start of the trees, while notes with the least decrease in impurity occur at the end of trees. Thus, by pruning trees below a particular node (equivalent to setting a threshold for the maximum number of features we want to consider), we can create a subset of the most important features."
   ]
  },
  {
   "cell_type": "code",
   "execution_count": 474,
   "metadata": {},
   "outputs": [
    {
     "data": {
      "text/plain": [
       "SelectFromModel(estimator=RandomForestClassifier(bootstrap=True, ccp_alpha=0.0,\n",
       "                                                 class_weight=None,\n",
       "                                                 criterion='gini',\n",
       "                                                 max_depth=None,\n",
       "                                                 max_features='auto',\n",
       "                                                 max_leaf_nodes=None,\n",
       "                                                 max_samples=None,\n",
       "                                                 min_impurity_decrease=0.0,\n",
       "                                                 min_impurity_split=None,\n",
       "                                                 min_samples_leaf=1,\n",
       "                                                 min_samples_split=2,\n",
       "                                                 min_weight_fraction_leaf=0.0,\n",
       "                                                 n_estimators=50, n_jobs=None,\n",
       "                                                 oob_score=False,\n",
       "                                                 random_state=None, verbose=0,\n",
       "                                                 warm_start=False),\n",
       "                max_features=10, norm_order=1, prefit=False, threshold=None)"
      ]
     },
     "execution_count": 474,
     "metadata": {},
     "output_type": "execute_result"
    }
   ],
   "source": [
    "from sklearn.feature_selection import SelectFromModel\n",
    "from sklearn.ensemble import RandomForestClassifier\n",
    "\n",
    "rf_selector = SelectFromModel(RandomForestClassifier(n_estimators=50), max_features=num_feats)\n",
    "rf_selector.fit(x_sample, y_sample)"
   ]
  },
  {
   "cell_type": "code",
   "execution_count": 475,
   "metadata": {},
   "outputs": [
    {
     "data": {
      "text/html": [
       "<div>\n",
       "<style scoped>\n",
       "    .dataframe tbody tr th:only-of-type {\n",
       "        vertical-align: middle;\n",
       "    }\n",
       "\n",
       "    .dataframe tbody tr th {\n",
       "        vertical-align: top;\n",
       "    }\n",
       "\n",
       "    .dataframe thead th {\n",
       "        text-align: right;\n",
       "    }\n",
       "</style>\n",
       "<table border=\"1\" class=\"dataframe\">\n",
       "  <thead>\n",
       "    <tr style=\"text-align: right;\">\n",
       "      <th></th>\n",
       "      <th>Selected</th>\n",
       "    </tr>\n",
       "  </thead>\n",
       "  <tbody>\n",
       "    <tr>\n",
       "      <th>age_norm</th>\n",
       "      <td>True</td>\n",
       "    </tr>\n",
       "    <tr>\n",
       "      <th>height_norm</th>\n",
       "      <td>True</td>\n",
       "    </tr>\n",
       "    <tr>\n",
       "      <th>weight_norm</th>\n",
       "      <td>True</td>\n",
       "    </tr>\n",
       "    <tr>\n",
       "      <th>ap_hi_norm</th>\n",
       "      <td>True</td>\n",
       "    </tr>\n",
       "    <tr>\n",
       "      <th>ap_lo_norm</th>\n",
       "      <td>True</td>\n",
       "    </tr>\n",
       "    <tr>\n",
       "      <th>gender_2</th>\n",
       "      <td>False</td>\n",
       "    </tr>\n",
       "    <tr>\n",
       "      <th>cholesterol_2</th>\n",
       "      <td>False</td>\n",
       "    </tr>\n",
       "    <tr>\n",
       "      <th>cholesterol_3</th>\n",
       "      <td>False</td>\n",
       "    </tr>\n",
       "    <tr>\n",
       "      <th>gluc_2</th>\n",
       "      <td>False</td>\n",
       "    </tr>\n",
       "    <tr>\n",
       "      <th>gluc_3</th>\n",
       "      <td>False</td>\n",
       "    </tr>\n",
       "    <tr>\n",
       "      <th>smoke_1</th>\n",
       "      <td>False</td>\n",
       "    </tr>\n",
       "    <tr>\n",
       "      <th>alco_1</th>\n",
       "      <td>False</td>\n",
       "    </tr>\n",
       "    <tr>\n",
       "      <th>active_1</th>\n",
       "      <td>False</td>\n",
       "    </tr>\n",
       "  </tbody>\n",
       "</table>\n",
       "</div>"
      ],
      "text/plain": [
       "               Selected\n",
       "age_norm           True\n",
       "height_norm        True\n",
       "weight_norm        True\n",
       "ap_hi_norm         True\n",
       "ap_lo_norm         True\n",
       "gender_2          False\n",
       "cholesterol_2     False\n",
       "cholesterol_3     False\n",
       "gluc_2            False\n",
       "gluc_3            False\n",
       "smoke_1           False\n",
       "alco_1            False\n",
       "active_1          False"
      ]
     },
     "execution_count": 475,
     "metadata": {},
     "output_type": "execute_result"
    }
   ],
   "source": [
    "pd.DataFrame({'Selected': rf_selector.get_support()},\n",
    "             index=x_sample.columns)"
   ]
  },
  {
   "cell_type": "code",
   "execution_count": null,
   "metadata": {},
   "outputs": [],
   "source": []
  },
  {
   "cell_type": "code",
   "execution_count": null,
   "metadata": {},
   "outputs": [],
   "source": []
  }
 ],
 "metadata": {
  "kernelspec": {
   "display_name": "Python 3",
   "language": "python",
   "name": "python3"
  },
  "language_info": {
   "codemirror_mode": {
    "name": "ipython",
    "version": 3
   },
   "file_extension": ".py",
   "mimetype": "text/x-python",
   "name": "python",
   "nbconvert_exporter": "python",
   "pygments_lexer": "ipython3",
   "version": "3.7.6"
  }
 },
 "nbformat": 4,
 "nbformat_minor": 4
}
